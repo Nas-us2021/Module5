{
 "cells": [
  {
   "cell_type": "markdown",
   "metadata": {},
   "source": [
    "1. Create a dictionary named pairs with key value pairs of hello and fire, 3 and seven, strong and 45. Print out the dictionary."
   ]
  },
  {
   "cell_type": "code",
   "execution_count": null,
   "metadata": {},
   "outputs": [],
   "source": [
    "print (\"EXERCISE 2: Create a populated dictionary and print it.\")\n",
    "pairs = {'hello': 'fire', 3: 'seven', 'strong': 45}\n",
    "print (pairs)"
   ]
  },
  {
   "cell_type": "markdown",
   "metadata": {},
   "source": [
    "2. Add welcome and 56 pair into pairs dictionary. Print out the dictionary. "
   ]
  },
  {
   "cell_type": "code",
   "execution_count": null,
   "metadata": {},
   "outputs": [],
   "source": [
    "print (\"EXERCISE 2: Create a dictionary, then add a new key-value.\")\n",
    "pairs = {'hello': 'fire', 3: 'seven', 'strong': 45}\n",
    "print (\"\\tOriginal dictionary: \\t\", pairs)\n",
    "pairs ['welcome'] = 56\n",
    "print (\"\\tUpdated dictionary: \\t\", pairs)"
   ]
  },
  {
   "cell_type": "markdown",
   "metadata": {},
   "source": [
    "3. Delete one item from the Dictionary. Print deleted item and the dictionary."
   ]
  },
  {
   "cell_type": "code",
   "execution_count": null,
   "metadata": {},
   "outputs": [],
   "source": [
    "print (\"EXERCISE 3: Create a populated dictionary, then delete item.\")\n",
    "pairs = {'hello': 'fire', 3: 'seven', 'strong': 45, 'welcome': 56}\n",
    "print (\"\\tOriginal dictionary: \\t\", pairs)\n",
    "print (\"Print item to be deleted: \\t\", pairs['strong'])\n",
    "del pairs['strong']\n",
    "# (\"Print deleted item: \\t\", pairs['strong']) CAN'T PRINT DELETED ITEM\n",
    "print (\"\\tUpdated dictionary: \\t\", pairs)\n",
    "       "
   ]
  },
  {
   "cell_type": "raw",
   "metadata": {},
   "source": [
    "4. Print the value of an item where key is 3 from the dicitonary"
   ]
  },
  {
   "cell_type": "code",
   "execution_count": null,
   "metadata": {},
   "outputs": [],
   "source": [
    "print (\"EXERCISE 4: Print value where key = 3. Then check for value = Not_There.\")\n",
    "pairs = {'hello': 'fire', 3: 'seven', 'strong': 45, 'welcome': 56}\n",
    "print (\"\\tOriginal dictionary: \", pairs)\n",
    "print (\"\\tPrint value where key = 3: \", pairs[3])"
   ]
  },
  {
   "cell_type": "markdown",
   "metadata": {},
   "source": [
    "5. Try to find out if the key called hello exist. Print out the key is found if it is there otherwise print out the key is not there."
   ]
  },
  {
   "cell_type": "code",
   "execution_count": null,
   "metadata": {},
   "outputs": [],
   "source": [
    "print(\"EXERCISE 5: Check for key = hello.\")\n",
    "\n",
    "#Setup.\n",
    "pairs = {'hello': 'fire', 3: 'seven', 'strong': 45, 'welcome': 56}\n",
    "print (\"\\tDictionary contains:  \", pairs)\n",
    "\n",
    "pair = \"Initital value\"\n",
    "print (\"pair initialized to:  \", pair)\n",
    "try :\n",
    "    pair = pairs[\"hello\"]\n",
    "except :\n",
    "    pair = \"Key does not exist.\"\n",
    "#pair = pairs['hello']\n",
    "print(\"Value for key = hello is: \", pairs['hello']) \n",
    "\n",
    "#Test logic if bad key provided.\n",
    "print(\"Test logic if key not in dictionary.\")\n",
    "try:\n",
    "    pair = pairs[\"NotThere\"]\n",
    "except:\n",
    "    pair = \"Key does not exist.\"\n",
    "print (\"Error msg =:  \", pair)\n",
    "#print(\"Value for key = NotThere is:  \", pairs[\"NotThere\"]) CREATES \"KeyError\"\n",
    "print (\"TRY A DIFFERENT APPROACH.\")\n",
    "if \"hello\" in pairs :\n",
    "    print (pairs[\"hello\"])\n",
    "else :\n",
    "    print(\"Unknown\")\n",
    "if \"NotThere\" in pairs :\n",
    "    print (pairs[\"NotThere\"])\n",
    "else :\n",
    "    print(\"Unknown\")"
   ]
  },
  {
   "cell_type": "markdown",
   "metadata": {},
   "source": [
    "6. Loop through the dictionary and print out each value. "
   ]
  },
  {
   "cell_type": "code",
   "execution_count": null,
   "metadata": {},
   "outputs": [],
   "source": [
    "print (\"EXERCISE 6: Loop thru dictionary, print each value.\")\n",
    "#Setup:\n",
    "pairs = {'hello': 'fire', 3: 'seven', 'strong': 45, 'welcome': 56}\n",
    "print (\"\\tOriginal dictionary: \\t\", pairs)\n",
    "\n",
    "print (\"Print just value:\")\n",
    "for key in pairs:\n",
    "    val = pairs[key]\n",
    "    print(f\"{val}\")\n",
    "   \n",
    "print (\"Print key and value:\")\n",
    "for key in pairs:\n",
    "    val = pairs[key]\n",
    "    print(f\"{key}\\t:\\t{val}\")\n",
    "   "
   ]
  },
  {
   "cell_type": "markdown",
   "metadata": {},
   "source": [
    "7. Loop through the dictionary and print out each key."
   ]
  },
  {
   "cell_type": "code",
   "execution_count": null,
   "metadata": {},
   "outputs": [],
   "source": [
    "print (\"EXERCISE #7: Loop and print out each key.\")\n",
    "#Setup:\n",
    "pairs = {'hello': 'fire', 3: 'seven', 'strong': 45, 'welcome': 56}\n",
    "print (\"Original dictionary: \\t\", pairs)\n",
    "\n",
    "print (\"Print key only:\")\n",
    "for key in pairs:\n",
    "    val = pairs[key]\n",
    "    print(f\"{key}\")"
   ]
  },
  {
   "cell_type": "markdown",
   "metadata": {},
   "source": [
    "8. Loop through the dictionary and print out each key and value pair. "
   ]
  },
  {
   "cell_type": "code",
   "execution_count": null,
   "metadata": {},
   "outputs": [],
   "source": [
    "print (\"EXERCISE 8: Print each key-value pair via loop.\")\n",
    "#Setup:\n",
    "pairs = {'hello': 'fire', 3: 'seven', 'strong': 45, 'welcome': 56}\n",
    "print (\"\\tOriginal dictionary: \\t\", pairs)\n",
    "\n",
    "for key in pairs:\n",
    "    val = pairs[key]\n",
    "    print(f\"{key}\\t:\\t{val}\")"
   ]
  },
  {
   "cell_type": "markdown",
   "metadata": {},
   "source": [
    "9. Make a nested dictionary called parent with 2 children's information: name, age, gender. Print out parent."
   ]
  },
  {
   "cell_type": "code",
   "execution_count": null,
   "metadata": {},
   "outputs": [],
   "source": [
    "print (\"EXERCISE 9: Create nested dictionary., print parent.\")\n",
    "\n",
    "Kid1 = {'name': 'Jonathan', 'age': 12, 'gender': 'male'}\n",
    "Kid2 = {'name': 'Matilda', 'age': 13, 'gender': 'female'}\n",
    "parent = {'Lastname' : 'Smith', 'child1' : Kid1, \"child2\" : Kid2,}\n",
    "print (parent)\n",
    "\n"
   ]
  },
  {
   "cell_type": "markdown",
   "metadata": {},
   "source": [
    "10. Add new child to above dictionary. Print out the name of all children."
   ]
  },
  {
   "cell_type": "code",
   "execution_count": null,
   "metadata": {},
   "outputs": [],
   "source": [
    "print (\"EXERCISE 10: Add new child.\")\n",
    "Kid1 = {'name': 'Jonathan', 'age': 12, 'gender': 'male'}\n",
    "Kid2 = {'name': 'Matilda', 'age': 13, 'gender': 'female'}\n",
    "parent = {'Lastname' : 'Smith', 'child1' : Kid1, \"child2\" : Kid2,}\n",
    "print (\"Base dictionary: \", parent)\n",
    "\n",
    "Kid3 = {'name': 'BabyDear', 'age': 1/12, 'gender': 'female'}\n",
    "\n",
    "print (\"Add new kid to parent.\")\n",
    "parent['child3'] = Kid3\n",
    "\n",
    "print (f\"Updated parent dictionary: \", parent)  \n",
    "print (\"Q: HOW DO YOU LIMIt PrintinG FLOAT TO 3 DECIAL PLACES?\")\n",
    "\n",
    "print (\"Print name of all children\")  #HELP!!\n",
    "\n",
    "val  = parent[key]\n",
    "#if\n",
    "print (\"Value : %s\" %  parent.get('name'))\n",
    "#return\n",
    "\n",
    "print (\"HERE IS WHERE I FELL APART, TRYING TO ISOLATE THE NAME AND LOOP THRU THE CHILDREN\")\n",
    "print (\"PERHAPS AN INITIAL DIFFERENT APPROACH? INSTEAD OF A LIST ELEMENT, USE A SEcONDARY DICTIONARY?\")\n",
    " \n",
    "\n",
    "\n",
    "    \n",
    "             \n"
   ]
  },
  {
   "cell_type": "markdown",
   "metadata": {},
   "source": [
    "11. Create a Test Scores program that gets the name of students and test score from a user. Then, generate a list of students who passed and a list of students who failed where passing test score is 60 or above. "
   ]
  },
  {
   "cell_type": "code",
   "execution_count": null,
   "metadata": {},
   "outputs": [],
   "source": [
    "print (\"EXERCISE 11: Test Scores program.\")\n",
    "pass_dict= {}\n",
    "fail_dict  = {}\n",
    "\n",
    "#Get student name and test score.\n",
    "\n",
    "while True :\n",
    "    user_name = input(\"Enter your name or q to stop program.\")\n",
    " #   print (\"User name is: \", user_name, type(user_name))\n",
    " #   print (\"Pass and fail dict lists: \", pass_dict, fail_dict)\n",
    "    if user_name.lower() == \"q\": # Check if user wants to quit.\n",
    "        print(\"Passing students and grade; \")\n",
    "        print (\"Pass_dict is: \", pass_dict)  \n",
    "        for key in pass_dict:    \n",
    "            val = pass_dict[key]\n",
    "            print(f\"{key}\\t:\\t{val}\") \n",
    "        print (\"Failing students and grade :\")\n",
    "        print (\"Fail_dict is: \", fail_dict)\n",
    "        for key in fail_dict:\n",
    "            val = fail_dict[key]\n",
    "            print(f\"{key}\\t:\\t{val}\")     \n",
    "        break\n",
    "    else :\n",
    "        user_score = int(input (\"What is your score?\"))\n",
    "        if user_score >= 60:\n",
    "            pass_dict[user_name] = user_score\n",
    "        else:\n",
    "            fail_dict[user_name] = user_score\n"
   ]
  },
  {
   "cell_type": "code",
   "execution_count": null,
   "metadata": {},
   "outputs": [],
   "source": []
  },
  {
   "cell_type": "markdown",
   "metadata": {},
   "source": [
    "12. Create a Word Counter program that gets a string of text from a user and then counts the number of times a word occrs in the string. \n",
    "\n",
    "The output should look something like this:\n",
    "\n",
    "    The Word Counter Program\n",
    "    \n",
    "    Enter a text string: \n",
    "    Humpty Dumpty sat on a wall, Humpty Dumpty had a great fall. All the king’s horses and all the king’s men couldn’t put Humpty together again.\n",
    "\n",
    "    a : 2\n",
    "    again : 1\n",
    "    all : 2\n",
    "    and : 1\n",
    "    couldn’t : 1\n",
    "    dumpty : 2\n",
    "    fall : 1\n",
    "    great : 1\n",
    "    had : 1\n",
    "    horses : 1\n",
    "    humpty : 3\n",
    "    king’s : 2\n",
    "    men : 1\n",
    "    on : 1\n",
    "    put : 1\n",
    "    sat : 1\n",
    "    the : 2\n",
    "    together : 1\n",
    "    wall : 1\n",
    "\n",
    "    There were total 26 words in the text string   "
   ]
  },
  {
   "cell_type": "code",
   "execution_count": null,
   "metadata": {},
   "outputs": [],
   "source": [
    "print (\"EXERCISE 12:Count word occurrence in a string.\")\n",
    "\n",
    "text_string = \"Humpty Dumpty sat on a wall, Humpty Dumpty had a great fall. All the king’s horses and all the king’s men couldn’t put Humpty together again.\"\n",
    "print (\"String is: \", text_string)\n",
    "\n",
    "#Get number of words in string.\n",
    "print (\"Count of words is: \", (len(text_string.split(\" \"))))                              \n",
    "                               \n",
    "#Count occurrence of each word.                                     \n",
    "words_dict = {}\n",
    "for word in text_string.split() :\n",
    "    words_dict[word] = words_dict.get(word,0) +1\n",
    "for key in sorted (words_dict):\n",
    "    print (\"{} : {}\".format(key,words_dict[key]))\n",
    "\n",
    "\n",
    "                               "
   ]
  }
 ],
 "metadata": {
  "kernelspec": {
   "display_name": "Python 3",
   "language": "python",
   "name": "python3"
  },
  "language_info": {
   "codemirror_mode": {
    "name": "ipython",
    "version": 3
   },
   "file_extension": ".py",
   "mimetype": "text/x-python",
   "name": "python",
   "nbconvert_exporter": "python",
   "pygments_lexer": "ipython3",
   "version": "3.8.8"
  },
  "widgets": {
   "application/vnd.jupyter.widget-state+json": {
    "state": {},
    "version_major": 2,
    "version_minor": 0
   }
  }
 },
 "nbformat": 4,
 "nbformat_minor": 4
}
